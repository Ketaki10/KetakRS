{
 "cells": [
  {
   "cell_type": "code",
   "execution_count": 1,
   "id": "e147cef4",
   "metadata": {},
   "outputs": [],
   "source": [
    "import pandas as pd\n",
    "import numpy as np\n",
    "import seaborn as sns\n",
    "import matplotlib.pyplot as plt"
   ]
  },
  {
   "cell_type": "code",
   "execution_count": 3,
   "id": "7aeb36e1",
   "metadata": {},
   "outputs": [],
   "source": [
    "#Store the data into a data frame. \n",
    "wine = pd.read_csv('C:/Users/91940/Downloads/winequality-red.csv')"
   ]
  },
  {
   "cell_type": "code",
   "execution_count": 4,
   "id": "6cece4f2",
   "metadata": {},
   "outputs": [
    {
     "data": {
      "text/html": [
       "<div>\n",
       "<style scoped>\n",
       "    .dataframe tbody tr th:only-of-type {\n",
       "        vertical-align: middle;\n",
       "    }\n",
       "\n",
       "    .dataframe tbody tr th {\n",
       "        vertical-align: top;\n",
       "    }\n",
       "\n",
       "    .dataframe thead th {\n",
       "        text-align: right;\n",
       "    }\n",
       "</style>\n",
       "<table border=\"1\" class=\"dataframe\">\n",
       "  <thead>\n",
       "    <tr style=\"text-align: right;\">\n",
       "      <th></th>\n",
       "      <th>fixed acidity</th>\n",
       "      <th>volatile acidity</th>\n",
       "      <th>citric acid</th>\n",
       "      <th>residual sugar</th>\n",
       "      <th>chlorides</th>\n",
       "      <th>free sulfur dioxide</th>\n",
       "      <th>total sulfur dioxide</th>\n",
       "      <th>density</th>\n",
       "      <th>pH</th>\n",
       "      <th>sulphates</th>\n",
       "      <th>alcohol</th>\n",
       "      <th>quality</th>\n",
       "    </tr>\n",
       "  </thead>\n",
       "  <tbody>\n",
       "    <tr>\n",
       "      <th>0</th>\n",
       "      <td>7.4</td>\n",
       "      <td>0.70</td>\n",
       "      <td>0.00</td>\n",
       "      <td>1.9</td>\n",
       "      <td>0.076</td>\n",
       "      <td>11.0</td>\n",
       "      <td>34.0</td>\n",
       "      <td>0.9978</td>\n",
       "      <td>3.51</td>\n",
       "      <td>0.56</td>\n",
       "      <td>9.4</td>\n",
       "      <td>5</td>\n",
       "    </tr>\n",
       "    <tr>\n",
       "      <th>1</th>\n",
       "      <td>7.8</td>\n",
       "      <td>0.88</td>\n",
       "      <td>0.00</td>\n",
       "      <td>2.6</td>\n",
       "      <td>0.098</td>\n",
       "      <td>25.0</td>\n",
       "      <td>67.0</td>\n",
       "      <td>0.9968</td>\n",
       "      <td>3.20</td>\n",
       "      <td>0.68</td>\n",
       "      <td>9.8</td>\n",
       "      <td>5</td>\n",
       "    </tr>\n",
       "    <tr>\n",
       "      <th>2</th>\n",
       "      <td>7.8</td>\n",
       "      <td>0.76</td>\n",
       "      <td>0.04</td>\n",
       "      <td>2.3</td>\n",
       "      <td>0.092</td>\n",
       "      <td>15.0</td>\n",
       "      <td>54.0</td>\n",
       "      <td>0.9970</td>\n",
       "      <td>3.26</td>\n",
       "      <td>0.65</td>\n",
       "      <td>9.8</td>\n",
       "      <td>5</td>\n",
       "    </tr>\n",
       "    <tr>\n",
       "      <th>3</th>\n",
       "      <td>11.2</td>\n",
       "      <td>0.28</td>\n",
       "      <td>0.56</td>\n",
       "      <td>1.9</td>\n",
       "      <td>0.075</td>\n",
       "      <td>17.0</td>\n",
       "      <td>60.0</td>\n",
       "      <td>0.9980</td>\n",
       "      <td>3.16</td>\n",
       "      <td>0.58</td>\n",
       "      <td>9.8</td>\n",
       "      <td>6</td>\n",
       "    </tr>\n",
       "    <tr>\n",
       "      <th>4</th>\n",
       "      <td>7.4</td>\n",
       "      <td>0.70</td>\n",
       "      <td>0.00</td>\n",
       "      <td>1.9</td>\n",
       "      <td>0.076</td>\n",
       "      <td>11.0</td>\n",
       "      <td>34.0</td>\n",
       "      <td>0.9978</td>\n",
       "      <td>3.51</td>\n",
       "      <td>0.56</td>\n",
       "      <td>9.4</td>\n",
       "      <td>5</td>\n",
       "    </tr>\n",
       "  </tbody>\n",
       "</table>\n",
       "</div>"
      ],
      "text/plain": [
       "   fixed acidity  volatile acidity  citric acid  residual sugar  chlorides  \\\n",
       "0            7.4              0.70         0.00             1.9      0.076   \n",
       "1            7.8              0.88         0.00             2.6      0.098   \n",
       "2            7.8              0.76         0.04             2.3      0.092   \n",
       "3           11.2              0.28         0.56             1.9      0.075   \n",
       "4            7.4              0.70         0.00             1.9      0.076   \n",
       "\n",
       "   free sulfur dioxide  total sulfur dioxide  density    pH  sulphates  \\\n",
       "0                 11.0                  34.0   0.9978  3.51       0.56   \n",
       "1                 25.0                  67.0   0.9968  3.20       0.68   \n",
       "2                 15.0                  54.0   0.9970  3.26       0.65   \n",
       "3                 17.0                  60.0   0.9980  3.16       0.58   \n",
       "4                 11.0                  34.0   0.9978  3.51       0.56   \n",
       "\n",
       "   alcohol  quality  \n",
       "0      9.4        5  \n",
       "1      9.8        5  \n",
       "2      9.8        5  \n",
       "3      9.8        6  \n",
       "4      9.4        5  "
      ]
     },
     "execution_count": 4,
     "metadata": {},
     "output_type": "execute_result"
    }
   ],
   "source": [
    "# Print the first 5 rows.\n",
    "wine.head()"
   ]
  },
  {
   "cell_type": "code",
   "execution_count": 5,
   "id": "5dbf3591",
   "metadata": {},
   "outputs": [
    {
     "name": "stdout",
     "output_type": "stream",
     "text": [
      "<class 'pandas.core.frame.DataFrame'>\n",
      "RangeIndex: 1599 entries, 0 to 1598\n",
      "Data columns (total 12 columns):\n",
      " #   Column                Non-Null Count  Dtype  \n",
      "---  ------                --------------  -----  \n",
      " 0   fixed acidity         1599 non-null   float64\n",
      " 1   volatile acidity      1599 non-null   float64\n",
      " 2   citric acid           1599 non-null   float64\n",
      " 3   residual sugar        1599 non-null   float64\n",
      " 4   chlorides             1599 non-null   float64\n",
      " 5   free sulfur dioxide   1599 non-null   float64\n",
      " 6   total sulfur dioxide  1599 non-null   float64\n",
      " 7   density               1599 non-null   float64\n",
      " 8   pH                    1599 non-null   float64\n",
      " 9   sulphates             1599 non-null   float64\n",
      " 10  alcohol               1599 non-null   float64\n",
      " 11  quality               1599 non-null   int64  \n",
      "dtypes: float64(11), int64(1)\n",
      "memory usage: 150.0 KB\n"
     ]
    }
   ],
   "source": [
    "# Show information about the data columns.\n",
    "wine.info()"
   ]
  },
  {
   "cell_type": "code",
   "execution_count": 6,
   "id": "d1ee9a4d",
   "metadata": {},
   "outputs": [
    {
     "data": {
      "text/plain": [
       "fixed acidity           0\n",
       "volatile acidity        0\n",
       "citric acid             0\n",
       "residual sugar          0\n",
       "chlorides               0\n",
       "free sulfur dioxide     0\n",
       "total sulfur dioxide    0\n",
       "density                 0\n",
       "pH                      0\n",
       "sulphates               0\n",
       "alcohol                 0\n",
       "quality                 0\n",
       "dtype: int64"
      ]
     },
     "execution_count": 6,
     "metadata": {},
     "output_type": "execute_result"
    }
   ],
   "source": [
    "# Check for NA or missing values in features.\n",
    "wine.isna().sum()"
   ]
  },
  {
   "cell_type": "markdown",
   "id": "a0aab1bc",
   "metadata": {},
   "source": [
    "# Visualization"
   ]
  },
  {
   "cell_type": "code",
   "execution_count": 7,
   "id": "ab7ac059",
   "metadata": {},
   "outputs": [
    {
     "name": "stderr",
     "output_type": "stream",
     "text": [
      "C:\\Users\\91940\\anaconda3\\lib\\site-packages\\seaborn\\_decorators.py:36: FutureWarning: Pass the following variable as a keyword arg: x. From version 0.12, the only valid positional argument will be `data`, and passing other arguments without an explicit keyword will result in an error or misinterpretation.\n",
      "  warnings.warn(\n"
     ]
    },
    {
     "data": {
      "text/plain": [
       "<AxesSubplot:xlabel='quality', ylabel='count'>"
      ]
     },
     "execution_count": 7,
     "metadata": {},
     "output_type": "execute_result"
    },
    {
     "data": {
      "image/png": "[encoded data removed]",
      "text/plain": [
       "<Figure size 432x288 with 1 Axes>"
      ]
     },
     "metadata": {
      "needs_background": "light"
     },
     "output_type": "display_data"
    }
   ],
   "source": [
    "# Visualize counts for each quality score.\n",
    "sns.countplot(wine['quality'])"
   ]
  },
  {
   "cell_type": "code",
   "execution_count": 8,
   "id": "629acd12",
   "metadata": {},
   "outputs": [
    {
     "data": {
      "text/plain": [
       "Text(0, 0.5, 'Fixed Acidity')"
      ]
     },
     "execution_count": 8,
     "metadata": {},
     "output_type": "execute_result"
    },
    {
     "data": {
      "image/png": "[encoded data removed]",
      "text/plain": [
       "<Figure size 576x360 with 1 Axes>"
      ]
     },
     "metadata": {
      "needs_background": "light"
     },
     "output_type": "display_data"
    }
   ],
   "source": [
    "# Visualize the relationship between fixed acidity and quality of   # wine.\n",
    "fig = plt.figure(figsize = (8,5))\n",
    "sns.barplot(x = 'quality', \n",
    "            y = 'fixed acidity', \n",
    "            data = wine,\n",
    "            ci = None)\n",
    "# set labels\n",
    "plt.xlabel(\"Quality of Wine\", size=12)\n",
    "plt.ylabel(\"Fixed Acidity\", size=12)"
   ]
  },
  {
   "cell_type": "code",
   "execution_count": 9,
   "id": "d9d8128b",
   "metadata": {},
   "outputs": [
    {
     "data": {
      "text/plain": [
       "Text(0, 0.5, 'Volatile Acidity')"
      ]
     },
     "execution_count": 9,
     "metadata": {},
     "output_type": "execute_result"
    },
    {
     "data": {
      "image/png": "[encoded data removed]",
      "text/plain": [
       "<Figure size 576x360 with 1 Axes>"
      ]
     },
     "metadata": {
      "needs_background": "light"
     },
     "output_type": "display_data"
    }
   ],
   "source": [
    "# Visualize the relationship between volatile acidity and quality of # wine.\n",
    "fig = plt.figure(figsize = (8,5))\n",
    "sns.barplot(x = 'quality', \n",
    "            y = 'volatile acidity', \n",
    "            data = wine,\n",
    "            ci = None)\n",
    "# set labels\n",
    "plt.xlabel(\"Quality of Wine\", size=12)\n",
    "plt.ylabel(\"Volatile Acidity\", size=12)"
   ]
  },
  {
   "cell_type": "code",
   "execution_count": 10,
   "id": "5a4386ca",
   "metadata": {},
   "outputs": [
    {
     "data": {
      "text/plain": [
       "Text(0, 0.5, 'Citric Acid')"
      ]
     },
     "execution_count": 10,
     "metadata": {},
     "output_type": "execute_result"
    },
    {
     "data": {
      "image/png": "[encoded data removed]",
      "text/plain": [
       "<Figure size 576x360 with 1 Axes>"
      ]
     },
     "metadata": {
      "needs_background": "light"
     },
     "output_type": "display_data"
    }
   ],
   "source": [
    "# Visualize the relationship between citric acid and quality of     # wine.\n",
    "fig = plt.figure(figsize = (8,5))\n",
    "sns.barplot(x = 'quality', \n",
    "            y = 'citric acid', \n",
    "            data = wine,\n",
    "            ci = None)\n",
    "# set labels\n",
    "plt.xlabel(\"Quality of Wine\", size=12)\n",
    "plt.ylabel(\"Citric Acid\", size=12)"
   ]
  },
  {
   "cell_type": "code",
   "execution_count": 11,
   "id": "88e487d3",
   "metadata": {},
   "outputs": [
    {
     "data": {
      "text/plain": [
       "Text(0, 0.5, 'Residual Sugar')"
      ]
     },
     "execution_count": 11,
     "metadata": {},
     "output_type": "execute_result"
    },
    {
     "data": {
      "image/png": "[encoded data removed]",
      "text/plain": [
       "<Figure size 576x360 with 1 Axes>"
      ]
     },
     "metadata": {
      "needs_background": "light"
     },
     "output_type": "display_data"
    }
   ],
   "source": [
    "# Visualize the relationship between residual sugar and quality of  # wine.\n",
    "fig = plt.figure(figsize = (8,5))\n",
    "sns.barplot(x = 'quality', \n",
    "            y = 'residual sugar', \n",
    "            data = wine,\n",
    "            ci = None)\n",
    "# set labels\n",
    "plt.xlabel(\"Quality of Wine\", size=12)\n",
    "plt.ylabel(\"Residual Sugar\", size=12)"
   ]
  },
  {
   "cell_type": "code",
   "execution_count": 12,
   "id": "6abc7390",
   "metadata": {},
   "outputs": [
    {
     "data": {
      "text/plain": [
       "Text(0, 0.5, 'Chlorides')"
      ]
     },
     "execution_count": 12,
     "metadata": {},
     "output_type": "execute_result"
    },
    {
     "data": {
      "image/png": "[encoded data removed]",
      "text/plain": [
       "<Figure size 576x360 with 1 Axes>"
      ]
     },
     "metadata": {
      "needs_background": "light"
     },
     "output_type": "display_data"
    }
   ],
   "source": [
    "# Visualize the relationship between chlorides and quality of wine.\n",
    "fig = plt.figure(figsize = (8,5))\n",
    "sns.barplot(x = 'quality', \n",
    "            y = 'chlorides', \n",
    "            data = wine,\n",
    "            ci = None)\n",
    "# set labels\n",
    "plt.xlabel(\"Quality of Wine\", size=12)\n",
    "plt.ylabel(\"Chlorides\", size=12)"
   ]
  },
  {
   "cell_type": "code",
   "execution_count": 13,
   "id": "d1da11f9",
   "metadata": {},
   "outputs": [
    {
     "data": {
      "text/plain": [
       "Text(0, 0.5, 'Free Sulfer Dioxide')"
      ]
     },
     "execution_count": 13,
     "metadata": {},
     "output_type": "execute_result"
    },
    {
     "data": {
      "image/png": "[encoded data removed]",
      "text/plain": [
       "<Figure size 576x360 with 1 Axes>"
      ]
     },
     "metadata": {
      "needs_background": "light"
     },
     "output_type": "display_data"
    }
   ],
   "source": [
    "# Visualize the relationship between free sulfur dioxide and quality # of wine.\n",
    "fig = plt.figure(figsize = (8,5))\n",
    "sns.barplot(x = 'quality', \n",
    "            y = 'free sulfur dioxide', \n",
    "            data = wine,\n",
    "            ci = None)\n",
    "# set labels\n",
    "plt.xlabel(\"Quality of Wine\", size=12)\n",
    "plt.ylabel(\"Free Sulfer Dioxide\", size=12)"
   ]
  },
  {
   "cell_type": "code",
   "execution_count": 14,
   "id": "8bd4f787",
   "metadata": {},
   "outputs": [
    {
     "data": {
      "text/plain": [
       "Text(0, 0.5, 'Total Sulfur Dioxide')"
      ]
     },
     "execution_count": 14,
     "metadata": {},
     "output_type": "execute_result"
    },
    {
     "data": {
      "image/png": "[encoded data removed]",
      "text/plain": [
       "<Figure size 576x360 with 1 Axes>"
      ]
     },
     "metadata": {
      "needs_background": "light"
     },
     "output_type": "display_data"
    }
   ],
   "source": [
    "# Visualize the relationship between total sulfur dioxide and       # quality of wine.\n",
    "fig = plt.figure(figsize = (8,5))\n",
    "sns.barplot(x = 'quality', \n",
    "            y = 'total sulfur dioxide', \n",
    "            data = wine,\n",
    "            ci = None)\n",
    "# set labels\n",
    "plt.xlabel(\"Quality of Wine\", size=12)\n",
    "plt.ylabel(\"Total Sulfur Dioxide\", size=12)"
   ]
  },
  {
   "cell_type": "code",
   "execution_count": 15,
   "id": "9fd37d02",
   "metadata": {},
   "outputs": [
    {
     "data": {
      "text/plain": [
       "Text(0, 0.5, 'Density')"
      ]
     },
     "execution_count": 15,
     "metadata": {},
     "output_type": "execute_result"
    },
    {
     "data": {
      "image/png": "[encoded data removed]",
      "text/plain": [
       "<Figure size 576x360 with 1 Axes>"
      ]
     },
     "metadata": {
      "needs_background": "light"
     },
     "output_type": "display_data"
    }
   ],
   "source": [
    "# Visualize the relationship between density and quality of wine.\n",
    "fig = plt.figure(figsize = (8,5))\n",
    "sns.barplot(x = 'quality', \n",
    "            y = 'density', \n",
    "            data = wine,\n",
    "            ci = None)\n",
    "# set labels\n",
    "plt.xlabel(\"Quality of Wine\", size=12)\n",
    "plt.ylabel(\"Density\", size=12)"
   ]
  },
  {
   "cell_type": "code",
   "execution_count": 16,
   "id": "5a939e8f",
   "metadata": {},
   "outputs": [
    {
     "data": {
      "text/plain": [
       "Text(0, 0.5, 'pH')"
      ]
     },
     "execution_count": 16,
     "metadata": {},
     "output_type": "execute_result"
    },
    {
     "data": {
      "image/png": "[encoded data removed]",
      "text/plain": [
       "<Figure size 576x360 with 1 Axes>"
      ]
     },
     "metadata": {
      "needs_background": "light"
     },
     "output_type": "display_data"
    }
   ],
   "source": [
    "# Visualize the relationship between pH and quality of wine.\n",
    "fig = plt.figure(figsize = (8,5))\n",
    "sns.barplot(x = 'quality', \n",
    "            y = 'pH', \n",
    "            data = wine,\n",
    "            ci = None)\n",
    "# set labels\n",
    "plt.xlabel(\"Quality of Wine\", size=12)\n",
    "plt.ylabel(\"pH\", size=12)"
   ]
  },
  {
   "cell_type": "code",
   "execution_count": 17,
   "id": "03d1619a",
   "metadata": {},
   "outputs": [
    {
     "ename": "SyntaxError",
     "evalue": "invalid syntax (Temp/ipykernel_10556/638959265.py, line 1)",
     "output_type": "error",
     "traceback": [
      "\u001b[1;36m  File \u001b[1;32m\"C:\\Users\\91940\\AppData\\Local\\Temp/ipykernel_10556/638959265.py\"\u001b[1;36m, line \u001b[1;32m1\u001b[0m\n\u001b[1;33m    Visualize the relationship between sulphates and quality of wine.\u001b[0m\n\u001b[1;37m              ^\u001b[0m\n\u001b[1;31mSyntaxError\u001b[0m\u001b[1;31m:\u001b[0m invalid syntax\n"
     ]
    }
   ],
   "source": [
    " Visualize the relationship between sulphates and quality of wine.\n",
    "fig = plt.figure(figsize = (8,5))\n",
    "sns.barplot(x = 'quality', \n",
    "            y = 'sulphates', \n",
    "            data = wine,\n",
    "            ci = None)\n",
    "# set labels\n",
    "plt.xlabel(\"Quality of Wine\", size=12)\n",
    "plt.ylabel(\"Sulphates\", size=12)"
   ]
  },
  {
   "cell_type": "code",
   "execution_count": 18,
   "id": "d2251a21",
   "metadata": {},
   "outputs": [
    {
     "data": {
      "text/plain": [
       "Text(0, 0.5, 'Alcohol')"
      ]
     },
     "execution_count": 18,
     "metadata": {},
     "output_type": "execute_result"
    },
    {
     "data": {
      "image/png": "[encoded data removed]",
      "text/plain": [
       "<Figure size 576x360 with 1 Axes>"
      ]
     },
     "metadata": {
      "needs_background": "light"
     },
     "output_type": "display_data"
    }
   ],
   "source": [
    "# Visualize the relationship between alcohol and quality of wine.\n",
    "fig = plt.figure(figsize = (8,5))\n",
    "sns.barplot(x = 'quality', \n",
    "            y = 'alcohol', \n",
    "            data = wine,\n",
    "            ci = None)\n",
    "# set labels\n",
    "plt.xlabel(\"Quality of Wine\", size=12)\n",
    "plt.ylabel(\"Alcohol\", size=12)"
   ]
  },
  {
   "cell_type": "markdown",
   "id": "4fd8b5bb",
   "metadata": {},
   "source": [
    "The majority of quality scores were in the 5 to 7 range."
   ]
  },
  {
   "cell_type": "code",
   "execution_count": 21,
   "id": "5e15e02b",
   "metadata": {},
   "outputs": [
    {
     "data": {
      "text/html": [
       "<div>\n",
       "<style scoped>\n",
       "    .dataframe tbody tr th:only-of-type {\n",
       "        vertical-align: middle;\n",
       "    }\n",
       "\n",
       "    .dataframe tbody tr th {\n",
       "        vertical-align: top;\n",
       "    }\n",
       "\n",
       "    .dataframe thead th {\n",
       "        text-align: right;\n",
       "    }\n",
       "</style>\n",
       "<table border=\"1\" class=\"dataframe\">\n",
       "  <thead>\n",
       "    <tr style=\"text-align: right;\">\n",
       "      <th></th>\n",
       "      <th>fixed acidity</th>\n",
       "      <th>volatile acidity</th>\n",
       "      <th>citric acid</th>\n",
       "      <th>residual sugar</th>\n",
       "      <th>chlorides</th>\n",
       "      <th>free sulfur dioxide</th>\n",
       "      <th>total sulfur dioxide</th>\n",
       "      <th>density</th>\n",
       "      <th>pH</th>\n",
       "      <th>sulphates</th>\n",
       "      <th>alcohol</th>\n",
       "      <th>quality</th>\n",
       "    </tr>\n",
       "  </thead>\n",
       "  <tbody>\n",
       "    <tr>\n",
       "      <th>0</th>\n",
       "      <td>7.4</td>\n",
       "      <td>0.70</td>\n",
       "      <td>0.00</td>\n",
       "      <td>1.9</td>\n",
       "      <td>0.076</td>\n",
       "      <td>11.0</td>\n",
       "      <td>34.0</td>\n",
       "      <td>0.9978</td>\n",
       "      <td>3.51</td>\n",
       "      <td>0.56</td>\n",
       "      <td>9.4</td>\n",
       "      <td>0</td>\n",
       "    </tr>\n",
       "    <tr>\n",
       "      <th>1</th>\n",
       "      <td>7.8</td>\n",
       "      <td>0.88</td>\n",
       "      <td>0.00</td>\n",
       "      <td>2.6</td>\n",
       "      <td>0.098</td>\n",
       "      <td>25.0</td>\n",
       "      <td>67.0</td>\n",
       "      <td>0.9968</td>\n",
       "      <td>3.20</td>\n",
       "      <td>0.68</td>\n",
       "      <td>9.8</td>\n",
       "      <td>0</td>\n",
       "    </tr>\n",
       "    <tr>\n",
       "      <th>2</th>\n",
       "      <td>7.8</td>\n",
       "      <td>0.76</td>\n",
       "      <td>0.04</td>\n",
       "      <td>2.3</td>\n",
       "      <td>0.092</td>\n",
       "      <td>15.0</td>\n",
       "      <td>54.0</td>\n",
       "      <td>0.9970</td>\n",
       "      <td>3.26</td>\n",
       "      <td>0.65</td>\n",
       "      <td>9.8</td>\n",
       "      <td>0</td>\n",
       "    </tr>\n",
       "    <tr>\n",
       "      <th>3</th>\n",
       "      <td>11.2</td>\n",
       "      <td>0.28</td>\n",
       "      <td>0.56</td>\n",
       "      <td>1.9</td>\n",
       "      <td>0.075</td>\n",
       "      <td>17.0</td>\n",
       "      <td>60.0</td>\n",
       "      <td>0.9980</td>\n",
       "      <td>3.16</td>\n",
       "      <td>0.58</td>\n",
       "      <td>9.8</td>\n",
       "      <td>0</td>\n",
       "    </tr>\n",
       "    <tr>\n",
       "      <th>4</th>\n",
       "      <td>7.4</td>\n",
       "      <td>0.70</td>\n",
       "      <td>0.00</td>\n",
       "      <td>1.9</td>\n",
       "      <td>0.076</td>\n",
       "      <td>11.0</td>\n",
       "      <td>34.0</td>\n",
       "      <td>0.9978</td>\n",
       "      <td>3.51</td>\n",
       "      <td>0.56</td>\n",
       "      <td>9.4</td>\n",
       "      <td>0</td>\n",
       "    </tr>\n",
       "  </tbody>\n",
       "</table>\n",
       "</div>"
      ],
      "text/plain": [
       "   fixed acidity  volatile acidity  citric acid  residual sugar  chlorides  \\\n",
       "0            7.4              0.70         0.00             1.9      0.076   \n",
       "1            7.8              0.88         0.00             2.6      0.098   \n",
       "2            7.8              0.76         0.04             2.3      0.092   \n",
       "3           11.2              0.28         0.56             1.9      0.075   \n",
       "4            7.4              0.70         0.00             1.9      0.076   \n",
       "\n",
       "   free sulfur dioxide  total sulfur dioxide  density    pH  sulphates  \\\n",
       "0                 11.0                  34.0   0.9978  3.51       0.56   \n",
       "1                 25.0                  67.0   0.9968  3.20       0.68   \n",
       "2                 15.0                  54.0   0.9970  3.26       0.65   \n",
       "3                 17.0                  60.0   0.9980  3.16       0.58   \n",
       "4                 11.0                  34.0   0.9978  3.51       0.56   \n",
       "\n",
       "   alcohol  quality  \n",
       "0      9.4        0  \n",
       "1      9.8        0  \n",
       "2      9.8        0  \n",
       "3      9.8        0  \n",
       "4      9.4        0  "
      ]
     },
     "execution_count": 21,
     "metadata": {},
     "output_type": "execute_result"
    }
   ],
   "source": [
    "# Classify wine quality into classes of poor and good by assigning    # ranges for the quality scores.\n",
    "# Wines that have a quality score between 3 and 6 are classified as # 0 (\"poor\").\n",
    "# Wines that have a quality score between 7 and 8 are classified as # 1 (\"good\").          \n",
    "wine['quality'] = wine['quality'].replace([3, 4, 5, 6], 0)\n",
    "wine['quality'] = wine['quality'].replace([7, 8], 1)\n",
    "wine.head()"
   ]
  },
  {
   "cell_type": "code",
   "execution_count": 23,
   "id": "03f5967c",
   "metadata": {},
   "outputs": [
    {
     "data": {
      "text/plain": [
       "0    1382\n",
       "1     217\n",
       "Name: quality, dtype: int64"
      ]
     },
     "execution_count": 23,
     "metadata": {},
     "output_type": "execute_result"
    }
   ],
   "source": [
    "# Show counts by wine quality class.\n",
    "wine['quality'].value_counts()"
   ]
  },
  {
   "cell_type": "code",
   "execution_count": 22,
   "id": "e2bda928",
   "metadata": {},
   "outputs": [
    {
     "name": "stderr",
     "output_type": "stream",
     "text": [
      "C:\\Users\\91940\\anaconda3\\lib\\site-packages\\seaborn\\_decorators.py:36: FutureWarning: Pass the following variable as a keyword arg: x. From version 0.12, the only valid positional argument will be `data`, and passing other arguments without an explicit keyword will result in an error or misinterpretation.\n",
      "  warnings.warn(\n"
     ]
    },
    {
     "data": {
      "text/plain": [
       "<AxesSubplot:xlabel='quality', ylabel='count'>"
      ]
     },
     "execution_count": 22,
     "metadata": {},
     "output_type": "execute_result"
    },
    {
     "data": {
      "image/png": "[encoded data removed]",
      "text/plain": [
       "<Figure size 432x288 with 1 Axes>"
      ]
     },
     "metadata": {
      "needs_background": "light"
     },
     "output_type": "display_data"
    }
   ],
   "source": [
    " #Visualize counts for each class.\n",
    "sns.countplot(wine['quality'])"
   ]
  },
  {
   "cell_type": "markdown",
   "id": "99e71fee",
   "metadata": {},
   "source": [
    "There are 1,382 wines classified as poor and 217 wines classified as good."
   ]
  },
  {
   "cell_type": "code",
   "execution_count": 28,
   "id": "8e4e3225",
   "metadata": {},
   "outputs": [
    {
     "data": {
      "text/plain": [
       "<AxesSubplot:>"
      ]
     },
     "execution_count": 28,
     "metadata": {},
     "output_type": "execute_result"
    },
    {
     "data": {
      "image/png": "[encoded data removed]",
      "text/plain": [
       "<Figure size 720x576 with 2 Axes>"
      ]
     },
     "metadata": {
      "needs_background": "light"
     },
     "output_type": "display_data"
    }
   ],
   "source": [
    "# Generate and display correlation matrix for features. \n",
    "# We will use the Pearson Correlation method.\n",
    "corr = wine.corr()\n",
    "plt.figure(figsize = (10,8))\n",
    "sns.heatmap(corr, annot = True, cmap = 'GnBu')"
   ]
  },
  {
   "cell_type": "markdown",
   "id": "d88fd91c",
   "metadata": {},
   "source": [
    "SplitData into test and train set"
   ]
  },
  {
   "cell_type": "code",
   "execution_count": 29,
   "id": "91e3bf0c",
   "metadata": {},
   "outputs": [],
   "source": [
    "x_data = wine.drop('quality', axis = 1)\n",
    "y_data = wine['quality']"
   ]
  },
  {
   "cell_type": "code",
   "execution_count": 32,
   "id": "830181dd",
   "metadata": {},
   "outputs": [],
   "source": [
    "from sklearn.model_selection import train_test_split, GridSearchCV, cross_val_score"
   ]
  },
  {
   "cell_type": "code",
   "execution_count": 33,
   "id": "f651a3df",
   "metadata": {},
   "outputs": [],
   "source": [
    "x_training_data, x_test_data, y_training_data, y_test_data = train_test_split(x_data, y_data, test_size = 0.25, random_state=42)"
   ]
  },
  {
   "cell_type": "code",
   "execution_count": 36,
   "id": "6f06ae55",
   "metadata": {},
   "outputs": [],
   "source": [
    "from sklearn.preprocessing import StandardScaler, LabelEncoder"
   ]
  },
  {
   "cell_type": "markdown",
   "id": "7e34b815",
   "metadata": {},
   "source": [
    "Normalize the feature datasets. StandardScaler will transform the data so that its distribution will have a mean value 0 and standard deviation of 1."
   ]
  },
  {
   "cell_type": "code",
   "execution_count": 38,
   "id": "762d82cb",
   "metadata": {},
   "outputs": [],
   "source": [
    "sc = StandardScaler()\n",
    "x_training_data = sc.fit_transform(x_training_data)\n",
    "x_test_data = sc.fit_transform(x_test_data)"
   ]
  },
  {
   "cell_type": "markdown",
   "id": "98b6453a",
   "metadata": {},
   "source": [
    "We will now train models, make predictions and evaluate the performance of two different models."
   ]
  },
  {
   "cell_type": "markdown",
   "id": "5bbc9827",
   "metadata": {},
   "source": [
    "# Random Forrest Model"
   ]
  },
  {
   "cell_type": "markdown",
   "id": "3330f911",
   "metadata": {},
   "source": [
    "from sklearn.ensemble import RandomForestClassifier"
   ]
  },
  {
   "cell_type": "code",
   "execution_count": 48,
   "id": "f4259d2e",
   "metadata": {},
   "outputs": [],
   "source": [
    "from sklearn.metrics import confusion_matrix, classification_report, accuracy_score"
   ]
  },
  {
   "cell_type": "code",
   "execution_count": 49,
   "id": "fa78f012",
   "metadata": {},
   "outputs": [
    {
     "name": "stdout",
     "output_type": "stream",
     "text": [
      "0.8925\n"
     ]
    }
   ],
   "source": [
    "# Create model object. \n",
    "model_rf = RandomForestClassifier(n_estimators = 200)\n",
    "# Train the model on the training data.\n",
    "model_rf.fit(x_training_data, y_training_data)\n",
    "# Make predictions on the test data. \n",
    "predictions_rf = model_rf.predict(x_test_data)\n",
    "# Calculate the Accuracy Score.\n",
    "rf = accuracy_score(y_test_data, predictions_rf)\n",
    "print(rf)"
   ]
  },
  {
   "cell_type": "code",
   "execution_count": 54,
   "id": "4c8d521b",
   "metadata": {},
   "outputs": [
    {
     "name": "stdout",
     "output_type": "stream",
     "text": [
      "              precision    recall  f1-score   support\n",
      "\n",
      "           0       0.91      0.97      0.94       347\n",
      "           1       0.66      0.40      0.49        53\n",
      "\n",
      "    accuracy                           0.89       400\n",
      "   macro avg       0.78      0.68      0.72       400\n",
      "weighted avg       0.88      0.89      0.88       400\n",
      "\n"
     ]
    }
   ],
   "source": [
    "# Show the classification report. \n",
    "print(classification_report(y_test_data, predictions_rf))\n"
   ]
  },
  {
   "cell_type": "markdown",
   "id": "ad0cee3a",
   "metadata": {},
   "source": [
    "# Logistic Regression Model"
   ]
  },
  {
   "cell_type": "code",
   "execution_count": 50,
   "id": "53b73eab",
   "metadata": {},
   "outputs": [],
   "source": [
    "from sklearn.linear_model import LogisticRegression"
   ]
  },
  {
   "cell_type": "code",
   "execution_count": 51,
   "id": "4327fa46",
   "metadata": {},
   "outputs": [
    {
     "name": "stdout",
     "output_type": "stream",
     "text": [
      "0.885\n"
     ]
    }
   ],
   "source": [
    "# Create model object. \n",
    "model_lr = LogisticRegression()\n",
    "# Train the model on the training data.\n",
    "model_lr.fit(x_training_data, y_training_data)\n",
    "# Make predictions on the test data. \n",
    "predictions_lr = model_lr.predict(x_test_data)\n",
    "# Calculate the Accuracy Score.\n",
    "lr = accuracy_score(y_test_data, predictions_lr)\n",
    "print(lr)"
   ]
  },
  {
   "cell_type": "code",
   "execution_count": 55,
   "id": "74b48806",
   "metadata": {},
   "outputs": [
    {
     "name": "stdout",
     "output_type": "stream",
     "text": [
      "              precision    recall  f1-score   support\n",
      "\n",
      "           0       0.90      0.97      0.94       347\n",
      "           1       0.64      0.30      0.41        53\n",
      "\n",
      "    accuracy                           0.89       400\n",
      "   macro avg       0.77      0.64      0.67       400\n",
      "weighted avg       0.87      0.89      0.87       400\n",
      "\n"
     ]
    }
   ],
   "source": [
    "# Show the classification report. \n",
    "print(classification_report(y_test_data, predictions_lr))"
   ]
  },
  {
   "cell_type": "markdown",
   "id": "10484492",
   "metadata": {},
   "source": [
    "# Accuracy"
   ]
  },
  {
   "cell_type": "code",
   "execution_count": 56,
   "id": "d91c3d3d",
   "metadata": {},
   "outputs": [
    {
     "data": {
      "text/html": [
       "<div>\n",
       "<style scoped>\n",
       "    .dataframe tbody tr th:only-of-type {\n",
       "        vertical-align: middle;\n",
       "    }\n",
       "\n",
       "    .dataframe tbody tr th {\n",
       "        vertical-align: top;\n",
       "    }\n",
       "\n",
       "    .dataframe thead th {\n",
       "        text-align: right;\n",
       "    }\n",
       "</style>\n",
       "<table border=\"1\" class=\"dataframe\">\n",
       "  <thead>\n",
       "    <tr style=\"text-align: right;\">\n",
       "      <th></th>\n",
       "      <th>Model</th>\n",
       "      <th>Accuracy_score</th>\n",
       "    </tr>\n",
       "  </thead>\n",
       "  <tbody>\n",
       "    <tr>\n",
       "      <th>0</th>\n",
       "      <td>Random Forest</td>\n",
       "      <td>0.8925</td>\n",
       "    </tr>\n",
       "    <tr>\n",
       "      <th>1</th>\n",
       "      <td>Logistic Regression</td>\n",
       "      <td>0.8850</td>\n",
       "    </tr>\n",
       "  </tbody>\n",
       "</table>\n",
       "</div>"
      ],
      "text/plain": [
       "                 Model  Accuracy_score\n",
       "0        Random Forest          0.8925\n",
       "1  Logistic Regression          0.8850"
      ]
     },
     "execution_count": 56,
     "metadata": {},
     "output_type": "execute_result"
    },
    {
     "data": {
      "image/png": "[encoded data removed]",
      "text/plain": [
       "<Figure size 432x288 with 1 Axes>"
      ]
     },
     "metadata": {
      "needs_background": "light"
     },
     "output_type": "display_data"
    }
   ],
   "source": [
    "# Show Accuraccy Score by Model.\n",
    "models = pd.DataFrame({\n",
    "    'Model':['Random Forest', 'Logistic Regression'],\n",
    "    'Accuracy_score' :[rf, lr]\n",
    "})\n",
    "models\n",
    "sns.barplot(x='Accuracy_score', y='Model', data=models)\n",
    "\n",
    "models.sort_values(by='Accuracy_score', ascending=False)"
   ]
  },
  {
   "cell_type": "markdown",
   "id": "804e7bc1",
   "metadata": {},
   "source": [
    "# Conclusions: All of the models tested showed high accuracy scores ranging from 88.50% to 89.75%"
   ]
  }
 ],
 "metadata": {
  "kernelspec": {
   "display_name": "Python 3 (ipykernel)",
   "language": "python",
   "name": "python3"
  },
  "language_info": {
   "codemirror_mode": {
    "name": "ipython",
    "version": 3
   },
   "file_extension": ".py",
   "mimetype": "text/x-python",
   "name": "python",
   "nbconvert_exporter": "python",
   "pygments_lexer": "ipython3",
   "version": "3.9.7"
  }
 },
 "nbformat": 4,
 "nbformat_minor": 5
}
